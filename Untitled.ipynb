{
 "cells": [
  {
   "cell_type": "code",
   "execution_count": 1,
   "id": "19804c2e-a137-4452-929f-45f04741b4ab",
   "metadata": {},
   "outputs": [],
   "source": [
    "import os\n",
    "from django.core.wsgi import get_wsgi_application\n",
    "\n",
    "os.environ.setdefault('DJANGO_SETTINGS_MODULE', 'core.settings')\n",
    "application = get_wsgi_application()\n",
    "\n",
    "#d = services.scotiabank_web_scraping('180223967', 'Dazikum1234')"
   ]
  },
  {
   "cell_type": "code",
   "execution_count": 2,
   "id": "668c3d8b-b0bd-421e-9f7a-0ee69f987836",
   "metadata": {},
   "outputs": [],
   "source": [
    "from bank.models import DataBanks  # Import your model\n",
    "\n",
    "def delete_all_records():\n",
    "    try:\n",
    "        # Use the `all()` method to select all records in the model\n",
    "        all_records = DataBanks.objects.all()\n",
    "\n",
    "        # Delete all selected records\n",
    "        all_records.delete()\n",
    "    except Exception as e:\n",
    "        # Handle any exceptions that may occur during the deletion process\n",
    "        # You can log the error or perform any other necessary actions\n",
    "        print(f\"An error occurred while deleting all records: {str(e)}\")\n",
    "\n",
    "delete_all_records()"
   ]
  },
  {
   "cell_type": "code",
   "execution_count": null,
   "id": "742efbb2-c619-41ad-9d88-6f8cf9757775",
   "metadata": {},
   "outputs": [],
   "source": []
  }
 ],
 "metadata": {
  "kernelspec": {
   "display_name": "Python 3 (ipykernel)",
   "language": "python",
   "name": "python3"
  },
  "language_info": {
   "codemirror_mode": {
    "name": "ipython",
    "version": 3
   },
   "file_extension": ".py",
   "mimetype": "text/x-python",
   "name": "python",
   "nbconvert_exporter": "python",
   "pygments_lexer": "ipython3",
   "version": "3.11.5"
  }
 },
 "nbformat": 4,
 "nbformat_minor": 5
}
